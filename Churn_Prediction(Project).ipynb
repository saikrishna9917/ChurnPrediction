{
  "nbformat": 4,
  "nbformat_minor": 0,
  "metadata": {
    "colab": {
      "name": "Churn Prediction(Project).ipynb",
      "provenance": []
    },
    "kernelspec": {
      "name": "python3",
      "display_name": "Python 3"
    }
  },
  "cells": [
    {
      "cell_type": "markdown",
      "metadata": {
        "id": "blgmif7x2KwL",
        "colab_type": "text"
      },
      "source": [
        "## Importing the required libraries:"
      ]
    },
    {
      "cell_type": "code",
      "metadata": {
        "id": "LqtkqIbhHwdS",
        "colab_type": "code",
        "colab": {
          "base_uri": "https://localhost:8080/",
          "height": 74
        },
        "outputId": "bef6b863-59ba-4884-a02a-c97d3306ed9f"
      },
      "source": [
        "#importing the required packages\n",
        "import numpy as np\n",
        "import pandas as pd\n",
        "import matplotlib.pyplot as plt\n",
        "import seaborn as sns\n",
        "%matplotlib inline\n",
        "from sklearn.preprocessing import MinMaxScaler\n",
        "from sklearn.model_selection import train_test_split\n",
        "from sklearn.metrics import accuracy_score,confusion_matrix,classification_report"
      ],
      "execution_count": 2,
      "outputs": [
        {
          "output_type": "stream",
          "text": [
            "/usr/local/lib/python3.6/dist-packages/statsmodels/tools/_testing.py:19: FutureWarning: pandas.util.testing is deprecated. Use the functions in the public API at pandas.testing instead.\n",
            "  import pandas.util.testing as tm\n"
          ],
          "name": "stderr"
        }
      ]
    },
    {
      "cell_type": "code",
      "metadata": {
        "id": "WDybYOz0E8PY",
        "colab_type": "code",
        "colab": {
          "base_uri": "https://localhost:8080/",
          "height": 108
        },
        "outputId": "7e6620fe-eed9-403b-a35e-794a389f28f6"
      },
      "source": [
        "#printing the versions of packages\n",
        "print(np.__version__)#prints the version of numpy\n",
        "print(pd.__version__)#prints the version of pandas\n",
        "print(sns.__version__)#prints the version of sns\n",
        "import sklearn\n",
        "print(sklearn.__version__)#prints the version of sklearn\n",
        "import matplotlib\n",
        "print(matplotlib.__version__)#prints the version of matplotlib\n"
      ],
      "execution_count": 3,
      "outputs": [
        {
          "output_type": "stream",
          "text": [
            "1.18.5\n",
            "1.0.5\n",
            "0.10.1\n",
            "0.22.2.post1\n",
            "3.2.2\n"
          ],
          "name": "stdout"
        }
      ]
    },
    {
      "cell_type": "markdown",
      "metadata": {
        "id": "cx7xAWOD2QJ1",
        "colab_type": "text"
      },
      "source": [
        "## Importing the dataset:"
      ]
    },
    {
      "cell_type": "code",
      "metadata": {
        "id": "6TEuMpY8I8oM",
        "colab_type": "code",
        "colab": {
          "base_uri": "https://localhost:8080/",
          "height": 305
        },
        "outputId": "3ff8f59f-ae34-439f-b9d2-ac4bfff89c5f"
      },
      "source": [
        "#Reading the data\n",
        "df = pd.read_csv(\"/content/drive/My Drive/TelcoCustomerChurn.csv\")\n",
        "df.head()"
      ],
      "execution_count": 4,
      "outputs": [
        {
          "output_type": "execute_result",
          "data": {
            "text/html": [
              "<div>\n",
              "<style scoped>\n",
              "    .dataframe tbody tr th:only-of-type {\n",
              "        vertical-align: middle;\n",
              "    }\n",
              "\n",
              "    .dataframe tbody tr th {\n",
              "        vertical-align: top;\n",
              "    }\n",
              "\n",
              "    .dataframe thead th {\n",
              "        text-align: right;\n",
              "    }\n",
              "</style>\n",
              "<table border=\"1\" class=\"dataframe\">\n",
              "  <thead>\n",
              "    <tr style=\"text-align: right;\">\n",
              "      <th></th>\n",
              "      <th>customerID</th>\n",
              "      <th>gender</th>\n",
              "      <th>SeniorCitizen</th>\n",
              "      <th>Partner</th>\n",
              "      <th>Dependents</th>\n",
              "      <th>tenure</th>\n",
              "      <th>PhoneService</th>\n",
              "      <th>MultipleLines</th>\n",
              "      <th>InternetService</th>\n",
              "      <th>OnlineSecurity</th>\n",
              "      <th>OnlineBackup</th>\n",
              "      <th>DeviceProtection</th>\n",
              "      <th>TechSupport</th>\n",
              "      <th>StreamingTV</th>\n",
              "      <th>StreamingMovies</th>\n",
              "      <th>Contract</th>\n",
              "      <th>PaperlessBilling</th>\n",
              "      <th>PaymentMethod</th>\n",
              "      <th>MonthlyCharges</th>\n",
              "      <th>TotalCharges</th>\n",
              "      <th>Churn</th>\n",
              "    </tr>\n",
              "  </thead>\n",
              "  <tbody>\n",
              "    <tr>\n",
              "      <th>0</th>\n",
              "      <td>7590-VHVEG</td>\n",
              "      <td>Female</td>\n",
              "      <td>0</td>\n",
              "      <td>Yes</td>\n",
              "      <td>No</td>\n",
              "      <td>1</td>\n",
              "      <td>No</td>\n",
              "      <td>No phone service</td>\n",
              "      <td>DSL</td>\n",
              "      <td>No</td>\n",
              "      <td>Yes</td>\n",
              "      <td>No</td>\n",
              "      <td>No</td>\n",
              "      <td>No</td>\n",
              "      <td>No</td>\n",
              "      <td>Month-to-month</td>\n",
              "      <td>Yes</td>\n",
              "      <td>Electronic check</td>\n",
              "      <td>29.85</td>\n",
              "      <td>29.85</td>\n",
              "      <td>No</td>\n",
              "    </tr>\n",
              "    <tr>\n",
              "      <th>1</th>\n",
              "      <td>5575-GNVDE</td>\n",
              "      <td>Male</td>\n",
              "      <td>0</td>\n",
              "      <td>No</td>\n",
              "      <td>No</td>\n",
              "      <td>34</td>\n",
              "      <td>Yes</td>\n",
              "      <td>No</td>\n",
              "      <td>DSL</td>\n",
              "      <td>Yes</td>\n",
              "      <td>No</td>\n",
              "      <td>Yes</td>\n",
              "      <td>No</td>\n",
              "      <td>No</td>\n",
              "      <td>No</td>\n",
              "      <td>One year</td>\n",
              "      <td>No</td>\n",
              "      <td>Mailed check</td>\n",
              "      <td>56.95</td>\n",
              "      <td>1889.5</td>\n",
              "      <td>No</td>\n",
              "    </tr>\n",
              "    <tr>\n",
              "      <th>2</th>\n",
              "      <td>3668-QPYBK</td>\n",
              "      <td>Male</td>\n",
              "      <td>0</td>\n",
              "      <td>No</td>\n",
              "      <td>No</td>\n",
              "      <td>2</td>\n",
              "      <td>Yes</td>\n",
              "      <td>No</td>\n",
              "      <td>DSL</td>\n",
              "      <td>Yes</td>\n",
              "      <td>Yes</td>\n",
              "      <td>No</td>\n",
              "      <td>No</td>\n",
              "      <td>No</td>\n",
              "      <td>No</td>\n",
              "      <td>Month-to-month</td>\n",
              "      <td>Yes</td>\n",
              "      <td>Mailed check</td>\n",
              "      <td>53.85</td>\n",
              "      <td>108.15</td>\n",
              "      <td>Yes</td>\n",
              "    </tr>\n",
              "    <tr>\n",
              "      <th>3</th>\n",
              "      <td>7795-CFOCW</td>\n",
              "      <td>Male</td>\n",
              "      <td>0</td>\n",
              "      <td>No</td>\n",
              "      <td>No</td>\n",
              "      <td>45</td>\n",
              "      <td>No</td>\n",
              "      <td>No phone service</td>\n",
              "      <td>DSL</td>\n",
              "      <td>Yes</td>\n",
              "      <td>No</td>\n",
              "      <td>Yes</td>\n",
              "      <td>Yes</td>\n",
              "      <td>No</td>\n",
              "      <td>No</td>\n",
              "      <td>One year</td>\n",
              "      <td>No</td>\n",
              "      <td>Bank transfer (automatic)</td>\n",
              "      <td>42.30</td>\n",
              "      <td>1840.75</td>\n",
              "      <td>No</td>\n",
              "    </tr>\n",
              "    <tr>\n",
              "      <th>4</th>\n",
              "      <td>9237-HQITU</td>\n",
              "      <td>Female</td>\n",
              "      <td>0</td>\n",
              "      <td>No</td>\n",
              "      <td>No</td>\n",
              "      <td>2</td>\n",
              "      <td>Yes</td>\n",
              "      <td>No</td>\n",
              "      <td>Fiber optic</td>\n",
              "      <td>No</td>\n",
              "      <td>No</td>\n",
              "      <td>No</td>\n",
              "      <td>No</td>\n",
              "      <td>No</td>\n",
              "      <td>No</td>\n",
              "      <td>Month-to-month</td>\n",
              "      <td>Yes</td>\n",
              "      <td>Electronic check</td>\n",
              "      <td>70.70</td>\n",
              "      <td>151.65</td>\n",
              "      <td>Yes</td>\n",
              "    </tr>\n",
              "  </tbody>\n",
              "</table>\n",
              "</div>"
            ],
            "text/plain": [
              "   customerID  gender  SeniorCitizen  ... MonthlyCharges TotalCharges  Churn\n",
              "0  7590-VHVEG  Female              0  ...          29.85        29.85     No\n",
              "1  5575-GNVDE    Male              0  ...          56.95       1889.5     No\n",
              "2  3668-QPYBK    Male              0  ...          53.85       108.15    Yes\n",
              "3  7795-CFOCW    Male              0  ...          42.30      1840.75     No\n",
              "4  9237-HQITU  Female              0  ...          70.70       151.65    Yes\n",
              "\n",
              "[5 rows x 21 columns]"
            ]
          },
          "metadata": {
            "tags": []
          },
          "execution_count": 4
        }
      ]
    },
    {
      "cell_type": "code",
      "metadata": {
        "id": "wCAQe2NhJE9_",
        "colab_type": "code",
        "colab": {
          "base_uri": "https://localhost:8080/",
          "height": 35
        },
        "outputId": "b66b6aa8-f8f3-4337-bb69-a541ba9ea888"
      },
      "source": [
        "df.shape#to show the number of rows and columns"
      ],
      "execution_count": 5,
      "outputs": [
        {
          "output_type": "execute_result",
          "data": {
            "text/plain": [
              "(7043, 21)"
            ]
          },
          "metadata": {
            "tags": []
          },
          "execution_count": 5
        }
      ]
    },
    {
      "cell_type": "markdown",
      "metadata": {
        "id": "MTCSmZze22rS",
        "colab_type": "text"
      },
      "source": [
        "# **Exploratory Data Analysis:**"
      ]
    },
    {
      "cell_type": "code",
      "metadata": {
        "id": "Q4lr84cEJT5_",
        "colab_type": "code",
        "colab": {
          "base_uri": "https://localhost:8080/",
          "height": 35
        },
        "outputId": "5a42c857-727a-490a-afaa-4786330f73e2"
      },
      "source": [
        "df.isna().sum().sum() #missing values in the data set"
      ],
      "execution_count": 6,
      "outputs": [
        {
          "output_type": "execute_result",
          "data": {
            "text/plain": [
              "0"
            ]
          },
          "metadata": {
            "tags": []
          },
          "execution_count": 6
        }
      ]
    },
    {
      "cell_type": "code",
      "metadata": {
        "id": "UdAFTaCmJna7",
        "colab_type": "code",
        "colab": {
          "base_uri": "https://localhost:8080/",
          "height": 417
        },
        "outputId": "d69a747f-e7c8-4361-d455-e6c99b15e7c5"
      },
      "source": [
        "df.dtypes#datatypes of columns"
      ],
      "execution_count": 7,
      "outputs": [
        {
          "output_type": "execute_result",
          "data": {
            "text/plain": [
              "customerID           object\n",
              "gender               object\n",
              "SeniorCitizen         int64\n",
              "Partner              object\n",
              "Dependents           object\n",
              "tenure                int64\n",
              "PhoneService         object\n",
              "MultipleLines        object\n",
              "InternetService      object\n",
              "OnlineSecurity       object\n",
              "OnlineBackup         object\n",
              "DeviceProtection     object\n",
              "TechSupport          object\n",
              "StreamingTV          object\n",
              "StreamingMovies      object\n",
              "Contract             object\n",
              "PaperlessBilling     object\n",
              "PaymentMethod        object\n",
              "MonthlyCharges      float64\n",
              "TotalCharges         object\n",
              "Churn                object\n",
              "dtype: object"
            ]
          },
          "metadata": {
            "tags": []
          },
          "execution_count": 7
        }
      ]
    },
    {
      "cell_type": "code",
      "metadata": {
        "id": "ou1U11ZxJ7mB",
        "colab_type": "code",
        "colab": {
          "base_uri": "https://localhost:8080/",
          "height": 288
        },
        "outputId": "dddd2268-e472-48df-ba97-d5a6abe723d9"
      },
      "source": [
        "df.describe()#statistical analysis of dataset"
      ],
      "execution_count": 8,
      "outputs": [
        {
          "output_type": "execute_result",
          "data": {
            "text/html": [
              "<div>\n",
              "<style scoped>\n",
              "    .dataframe tbody tr th:only-of-type {\n",
              "        vertical-align: middle;\n",
              "    }\n",
              "\n",
              "    .dataframe tbody tr th {\n",
              "        vertical-align: top;\n",
              "    }\n",
              "\n",
              "    .dataframe thead th {\n",
              "        text-align: right;\n",
              "    }\n",
              "</style>\n",
              "<table border=\"1\" class=\"dataframe\">\n",
              "  <thead>\n",
              "    <tr style=\"text-align: right;\">\n",
              "      <th></th>\n",
              "      <th>SeniorCitizen</th>\n",
              "      <th>tenure</th>\n",
              "      <th>MonthlyCharges</th>\n",
              "    </tr>\n",
              "  </thead>\n",
              "  <tbody>\n",
              "    <tr>\n",
              "      <th>count</th>\n",
              "      <td>7043.000000</td>\n",
              "      <td>7043.000000</td>\n",
              "      <td>7043.000000</td>\n",
              "    </tr>\n",
              "    <tr>\n",
              "      <th>mean</th>\n",
              "      <td>0.162147</td>\n",
              "      <td>32.371149</td>\n",
              "      <td>64.761692</td>\n",
              "    </tr>\n",
              "    <tr>\n",
              "      <th>std</th>\n",
              "      <td>0.368612</td>\n",
              "      <td>24.559481</td>\n",
              "      <td>30.090047</td>\n",
              "    </tr>\n",
              "    <tr>\n",
              "      <th>min</th>\n",
              "      <td>0.000000</td>\n",
              "      <td>0.000000</td>\n",
              "      <td>18.250000</td>\n",
              "    </tr>\n",
              "    <tr>\n",
              "      <th>25%</th>\n",
              "      <td>0.000000</td>\n",
              "      <td>9.000000</td>\n",
              "      <td>35.500000</td>\n",
              "    </tr>\n",
              "    <tr>\n",
              "      <th>50%</th>\n",
              "      <td>0.000000</td>\n",
              "      <td>29.000000</td>\n",
              "      <td>70.350000</td>\n",
              "    </tr>\n",
              "    <tr>\n",
              "      <th>75%</th>\n",
              "      <td>0.000000</td>\n",
              "      <td>55.000000</td>\n",
              "      <td>89.850000</td>\n",
              "    </tr>\n",
              "    <tr>\n",
              "      <th>max</th>\n",
              "      <td>1.000000</td>\n",
              "      <td>72.000000</td>\n",
              "      <td>118.750000</td>\n",
              "    </tr>\n",
              "  </tbody>\n",
              "</table>\n",
              "</div>"
            ],
            "text/plain": [
              "       SeniorCitizen       tenure  MonthlyCharges\n",
              "count    7043.000000  7043.000000     7043.000000\n",
              "mean        0.162147    32.371149       64.761692\n",
              "std         0.368612    24.559481       30.090047\n",
              "min         0.000000     0.000000       18.250000\n",
              "25%         0.000000     9.000000       35.500000\n",
              "50%         0.000000    29.000000       70.350000\n",
              "75%         0.000000    55.000000       89.850000\n",
              "max         1.000000    72.000000      118.750000"
            ]
          },
          "metadata": {
            "tags": []
          },
          "execution_count": 8
        }
      ]
    },
    {
      "cell_type": "code",
      "metadata": {
        "id": "IPL4aoqNBfOL",
        "colab_type": "code",
        "colab": {}
      },
      "source": [
        "#changing the values of target variable from 'yes' to 1 and 'no' to 0\n",
        "churn_numeric = {'Yes':1, 'No':0}\n",
        "df.Churn.replace(churn_numeric, inplace=True)"
      ],
      "execution_count": 9,
      "outputs": []
    },
    {
      "cell_type": "markdown",
      "metadata": {
        "id": "OMWkpnFC3KIX",
        "colab_type": "text"
      },
      "source": [
        "## Visualizing the data to detect relationships between the target variable and other columns:"
      ]
    },
    {
      "cell_type": "code",
      "metadata": {
        "id": "LKuqNotKMcGC",
        "colab_type": "code",
        "colab": {
          "base_uri": "https://localhost:8080/",
          "height": 313
        },
        "outputId": "e5d26feb-42b6-42b3-c7a1-5de3a05d88ae"
      },
      "source": [
        "sns.countplot(df['Churn']).set_title(\"Visualization of Churn\")#visualizing the target variable"
      ],
      "execution_count": 10,
      "outputs": [
        {
          "output_type": "execute_result",
          "data": {
            "text/plain": [
              "Text(0.5, 1.0, 'Visualization of Churn')"
            ]
          },
          "metadata": {
            "tags": []
          },
          "execution_count": 10
        },
        {
          "output_type": "display_data",
          "data": {
            "image/png": "[encoded data removed]",
            "text/plain": [
              "<Figure size 432x288 with 1 Axes>"
            ]
          },
          "metadata": {
            "tags": [],
            "needs_background": "light"
          }
        }
      ]
    },
    {
      "cell_type": "code",
      "metadata": {
        "id": "0XkkV7uJNU3_",
        "colab_type": "code",
        "colab": {
          "base_uri": "https://localhost:8080/",
          "height": 639
        },
        "outputId": "a3458eb7-e0c6-4746-e986-a252e14eaca4"
      },
      "source": [
        "#visualizing other columns according to the target variable\n",
        "fig, axes = plt.subplots(2, 3, figsize=(14, 10))\n",
        "\n",
        "sns.countplot(\"gender\",hue='Churn', data=df, ax=axes[0,0]).set_title(\"Visualization of Gender\")\n",
        "sns.countplot(\"SeniorCitizen\",hue='Churn', data=df, ax=axes[0,1]).set_title(\"Visualization of SeniorCitizen\")\n",
        "sns.countplot(\"Partner\",hue='Churn', data=df, ax=axes[0,2]).set_title(\"Visualization of Partner\")\n",
        "sns.countplot(\"Dependents\",hue='Churn', data=df, ax=axes[1,0]).set_title(\"Visualization of Dependents\")\n",
        "sns.countplot(\"PhoneService\",hue='Churn', data=df, ax=axes[1,1]).set_title(\"Visualization of PhoneService\")\n",
        "sns.countplot(\"PaperlessBilling\",hue='Churn', data=df, ax=axes[1,2]).set_title(\"Visualization of PaperlessBilling\")"
      ],
      "execution_count": 11,
      "outputs": [
        {
          "output_type": "execute_result",
          "data": {
            "text/plain": [
              "Text(0.5, 1.0, 'Visualization of PaperlessBilling')"
            ]
          },
          "metadata": {
            "tags": []
          },
          "execution_count": 11
        },
        {
          "output_type": "display_data",
          "data": {
            "image/png": "[encoded data removed]",
            "text/plain": [
              "<Figure size 1008x720 with 6 Axes>"
            ]
          },
          "metadata": {
            "tags": [],
            "needs_background": "light"
          }
        }
      ]
    },
    {
      "cell_type": "markdown",
      "metadata": {
        "id": "vzP8eu-mT4CD",
        "colab_type": "text"
      },
      "source": [
        "Average churn rate for males and females are almost same so gender columns does not bring any use to the prediction and can be dropped like wise lets check for other columns too"
      ]
    },
    {
      "cell_type": "code",
      "metadata": {
        "id": "VXmmqGPDVRw7",
        "colab_type": "code",
        "colab": {
          "base_uri": "https://localhost:8080/",
          "height": 313
        },
        "outputId": "d8927bce-ce09-4537-9f6d-49f7dfec0b74"
      },
      "source": [
        "#Lets visualize the churn count for internet service\n",
        "sns.countplot(x='InternetService',hue='Churn',data=df).set_title(\"Visualization of InternetSevice\")"
      ],
      "execution_count": 12,
      "outputs": [
        {
          "output_type": "execute_result",
          "data": {
            "text/plain": [
              "Text(0.5, 1.0, 'Visualization of InternetSevice')"
            ]
          },
          "metadata": {
            "tags": []
          },
          "execution_count": 12
        },
        {
          "output_type": "display_data",
          "data": {
            "image/png": "[encoded data removed]",
            "text/plain": [
              "<Figure size 432x288 with 1 Axes>"
            ]
          },
          "metadata": {
            "tags": [],
            "needs_background": "light"
          }
        }
      ]
    },
    {
      "cell_type": "markdown",
      "metadata": {
        "id": "wUjZ8AA7Xt2h",
        "colab_type": "text"
      },
      "source": [
        "We can see that the Internet Service column is definitely important in predicting the churn rate. customers with fiber optic internet service are much likely to churn than other customers although there is not a big difference in the number of customers with DSL and fiber optic"
      ]
    },
    {
      "cell_type": "code",
      "metadata": {
        "id": "jDJfIOyBXstj",
        "colab_type": "code",
        "colab": {
          "base_uri": "https://localhost:8080/",
          "height": 639
        },
        "outputId": "da637a19-cc0e-44a0-ffa1-4d5e72dacfe3"
      },
      "source": [
        "#visualizing the internet service related features\n",
        "fig, axes = plt.subplots(2, 3, figsize=(14, 10))\n",
        "sns.countplot(\"StreamingTV\",hue='Churn', data=df, ax=axes[0,0]).set_title(\"Visualization of StreamingTV\")\n",
        "sns.countplot(\"StreamingMovies\",hue='Churn', data=df, ax=axes[0,1]).set_title(\"Visualization of StreamingMovies\")\n",
        "sns.countplot(\"OnlineSecurity\",hue='Churn', data=df, ax=axes[0,2]).set_title(\"Visualization of OnlineSecurity\")\n",
        "sns.countplot(\"OnlineBackup\",hue='Churn', data=df, ax=axes[1,0]).set_title(\"Visualization of OnlineBackup\")\n",
        "sns.countplot(\"DeviceProtection\",hue='Churn', data=df, ax=axes[1,1]).set_title(\"Visualization of DeviceProtection\")\n",
        "sns.countplot(\"TechSupport\",hue='Churn', data=df, ax=axes[1,2]).set_title(\"Visualization of TechSupport\")"
      ],
      "execution_count": 13,
      "outputs": [
        {
          "output_type": "execute_result",
          "data": {
            "text/plain": [
              "Text(0.5, 1.0, 'Visualization of TechSupport')"
            ]
          },
          "metadata": {
            "tags": []
          },
          "execution_count": 13
        },
        {
          "output_type": "display_data",
          "data": {
            "image/png": "[encoded data removed]",
            "text/plain": [
              "<Figure size 1008x720 with 6 Axes>"
            ]
          },
          "metadata": {
            "tags": [],
            "needs_background": "light"
          }
        }
      ]
    },
    {
      "cell_type": "markdown",
      "metadata": {
        "id": "1-zmAMEkayGL",
        "colab_type": "text"
      },
      "source": [
        "All the internet service related features seem to have different churn rates for their classes"
      ]
    },
    {
      "cell_type": "code",
      "metadata": {
        "id": "mvHV30byawSC",
        "colab_type": "code",
        "colab": {
          "base_uri": "https://localhost:8080/",
          "height": 313
        },
        "outputId": "d83c9e44-11a3-41e5-c82a-ec25ba834393"
      },
      "source": [
        "plt.figure(figsize=(9,4))\n",
        "sns.countplot(\"PaymentMethod\",hue='Churn',data=df).set_title(\"Visualization of PaymentMethod\")"
      ],
      "execution_count": 14,
      "outputs": [
        {
          "output_type": "execute_result",
          "data": {
            "text/plain": [
              "Text(0.5, 1.0, 'Visualization of PaymentMethod')"
            ]
          },
          "metadata": {
            "tags": []
          },
          "execution_count": 14
        },
        {
          "output_type": "display_data",
          "data": {
            "image/png": "[encoded data removed]",
            "text/plain": [
              "<Figure size 648x288 with 1 Axes>"
            ]
          },
          "metadata": {
            "tags": [],
            "needs_background": "light"
          }
        }
      ]
    },
    {
      "cell_type": "code",
      "metadata": {
        "id": "KB8LJcx9cf4V",
        "colab_type": "code",
        "colab": {
          "base_uri": "https://localhost:8080/",
          "height": 476
        },
        "outputId": "42c85c71-7d6a-4400-c9b3-b2800a6147b7"
      },
      "source": [
        "#visualizing the continuos features\n",
        "fig, axes = plt.subplots(1,2, figsize=(12, 7))\n",
        "sns.distplot(df[\"tenure\"], ax=axes[0]).set_title(\"Visualization of Tenure\")\n",
        "sns.distplot(df[\"MonthlyCharges\"], ax=axes[1]).set_title(\"Visualization of MonthlyCharges\")"
      ],
      "execution_count": 15,
      "outputs": [
        {
          "output_type": "execute_result",
          "data": {
            "text/plain": [
              "Text(0.5, 1.0, 'Visualization of MonthlyCharges')"
            ]
          },
          "metadata": {
            "tags": []
          },
          "execution_count": 15
        },
        {
          "output_type": "display_data",
          "data": {
            "image/png": "[encoded data removed]",
            "text/plain": [
              "<Figure size 864x504 with 2 Axes>"
            ]
          },
          "metadata": {
            "tags": [],
            "needs_background": "light"
          }
        }
      ]
    },
    {
      "cell_type": "markdown",
      "metadata": {
        "id": "fQwxKjQRfPBv",
        "colab_type": "text"
      },
      "source": [
        "Contract and Total Charges columns can be dropped as we use tenure and MonthlyCharges columns"
      ]
    },
    {
      "cell_type": "markdown",
      "metadata": {
        "id": "dwR83WQo1yqN",
        "colab_type": "text"
      },
      "source": [
        "# **Data Selection:**"
      ]
    },
    {
      "cell_type": "markdown",
      "metadata": {
        "id": "JWPXj5arkD10",
        "colab_type": "text"
      },
      "source": [
        "### After exploring the variables customerID,Gender,PhoneService,Contract,TotalCharges columns can be dropped since they add little or no use for prediction"
      ]
    },
    {
      "cell_type": "code",
      "metadata": {
        "id": "sZ8KLOb4eZjG",
        "colab_type": "code",
        "colab": {}
      },
      "source": [
        "#dropping the uneccessary variables\n",
        "df.drop(['customerID','gender','PhoneService','Contract','TotalCharges'], axis=1, inplace=True)"
      ],
      "execution_count": 16,
      "outputs": []
    },
    {
      "cell_type": "code",
      "metadata": {
        "id": "HgnnQl6ckC5L",
        "colab_type": "code",
        "colab": {
          "base_uri": "https://localhost:8080/",
          "height": 270
        },
        "outputId": "6dbf5546-b6be-4c64-d1fe-7467e79100b4"
      },
      "source": [
        "df.head()#showing the first 5 rows after dropping"
      ],
      "execution_count": 17,
      "outputs": [
        {
          "output_type": "execute_result",
          "data": {
            "text/html": [
              "<div>\n",
              "<style scoped>\n",
              "    .dataframe tbody tr th:only-of-type {\n",
              "        vertical-align: middle;\n",
              "    }\n",
              "\n",
              "    .dataframe tbody tr th {\n",
              "        vertical-align: top;\n",
              "    }\n",
              "\n",
              "    .dataframe thead th {\n",
              "        text-align: right;\n",
              "    }\n",
              "</style>\n",
              "<table border=\"1\" class=\"dataframe\">\n",
              "  <thead>\n",
              "    <tr style=\"text-align: right;\">\n",
              "      <th></th>\n",
              "      <th>SeniorCitizen</th>\n",
              "      <th>Partner</th>\n",
              "      <th>Dependents</th>\n",
              "      <th>tenure</th>\n",
              "      <th>MultipleLines</th>\n",
              "      <th>InternetService</th>\n",
              "      <th>OnlineSecurity</th>\n",
              "      <th>OnlineBackup</th>\n",
              "      <th>DeviceProtection</th>\n",
              "      <th>TechSupport</th>\n",
              "      <th>StreamingTV</th>\n",
              "      <th>StreamingMovies</th>\n",
              "      <th>PaperlessBilling</th>\n",
              "      <th>PaymentMethod</th>\n",
              "      <th>MonthlyCharges</th>\n",
              "      <th>Churn</th>\n",
              "    </tr>\n",
              "  </thead>\n",
              "  <tbody>\n",
              "    <tr>\n",
              "      <th>0</th>\n",
              "      <td>0</td>\n",
              "      <td>Yes</td>\n",
              "      <td>No</td>\n",
              "      <td>1</td>\n",
              "      <td>No phone service</td>\n",
              "      <td>DSL</td>\n",
              "      <td>No</td>\n",
              "      <td>Yes</td>\n",
              "      <td>No</td>\n",
              "      <td>No</td>\n",
              "      <td>No</td>\n",
              "      <td>No</td>\n",
              "      <td>Yes</td>\n",
              "      <td>Electronic check</td>\n",
              "      <td>29.85</td>\n",
              "      <td>0</td>\n",
              "    </tr>\n",
              "    <tr>\n",
              "      <th>1</th>\n",
              "      <td>0</td>\n",
              "      <td>No</td>\n",
              "      <td>No</td>\n",
              "      <td>34</td>\n",
              "      <td>No</td>\n",
              "      <td>DSL</td>\n",
              "      <td>Yes</td>\n",
              "      <td>No</td>\n",
              "      <td>Yes</td>\n",
              "      <td>No</td>\n",
              "      <td>No</td>\n",
              "      <td>No</td>\n",
              "      <td>No</td>\n",
              "      <td>Mailed check</td>\n",
              "      <td>56.95</td>\n",
              "      <td>0</td>\n",
              "    </tr>\n",
              "    <tr>\n",
              "      <th>2</th>\n",
              "      <td>0</td>\n",
              "      <td>No</td>\n",
              "      <td>No</td>\n",
              "      <td>2</td>\n",
              "      <td>No</td>\n",
              "      <td>DSL</td>\n",
              "      <td>Yes</td>\n",
              "      <td>Yes</td>\n",
              "      <td>No</td>\n",
              "      <td>No</td>\n",
              "      <td>No</td>\n",
              "      <td>No</td>\n",
              "      <td>Yes</td>\n",
              "      <td>Mailed check</td>\n",
              "      <td>53.85</td>\n",
              "      <td>1</td>\n",
              "    </tr>\n",
              "    <tr>\n",
              "      <th>3</th>\n",
              "      <td>0</td>\n",
              "      <td>No</td>\n",
              "      <td>No</td>\n",
              "      <td>45</td>\n",
              "      <td>No phone service</td>\n",
              "      <td>DSL</td>\n",
              "      <td>Yes</td>\n",
              "      <td>No</td>\n",
              "      <td>Yes</td>\n",
              "      <td>Yes</td>\n",
              "      <td>No</td>\n",
              "      <td>No</td>\n",
              "      <td>No</td>\n",
              "      <td>Bank transfer (automatic)</td>\n",
              "      <td>42.30</td>\n",
              "      <td>0</td>\n",
              "    </tr>\n",
              "    <tr>\n",
              "      <th>4</th>\n",
              "      <td>0</td>\n",
              "      <td>No</td>\n",
              "      <td>No</td>\n",
              "      <td>2</td>\n",
              "      <td>No</td>\n",
              "      <td>Fiber optic</td>\n",
              "      <td>No</td>\n",
              "      <td>No</td>\n",
              "      <td>No</td>\n",
              "      <td>No</td>\n",
              "      <td>No</td>\n",
              "      <td>No</td>\n",
              "      <td>Yes</td>\n",
              "      <td>Electronic check</td>\n",
              "      <td>70.70</td>\n",
              "      <td>1</td>\n",
              "    </tr>\n",
              "  </tbody>\n",
              "</table>\n",
              "</div>"
            ],
            "text/plain": [
              "   SeniorCitizen Partner  ... MonthlyCharges  Churn\n",
              "0              0     Yes  ...          29.85      0\n",
              "1              0      No  ...          56.95      0\n",
              "2              0      No  ...          53.85      1\n",
              "3              0      No  ...          42.30      0\n",
              "4              0      No  ...          70.70      1\n",
              "\n",
              "[5 rows x 16 columns]"
            ]
          },
          "metadata": {
            "tags": []
          },
          "execution_count": 17
        }
      ]
    },
    {
      "cell_type": "markdown",
      "metadata": {
        "id": "rGNbuBHG1X3_",
        "colab_type": "text"
      },
      "source": [
        "# **Data Pre-processing:**"
      ]
    },
    {
      "cell_type": "markdown",
      "metadata": {
        "id": "Y1MgLobo0kxg",
        "colab_type": "text"
      },
      "source": [
        "## Categorical features need to be converted to numbers so that they can be included in calculations done by a machine learning model:"
      ]
    },
    {
      "cell_type": "code",
      "metadata": {
        "id": "Vol86-tEl9Tq",
        "colab_type": "code",
        "colab": {}
      },
      "source": [
        "#encoding the categorical features\n",
        "cat_features = ['SeniorCitizen', 'Partner', 'Dependents',\n",
        "        'MultipleLines', 'InternetService', 'OnlineSecurity',\n",
        "       'OnlineBackup', 'DeviceProtection', 'TechSupport', 'StreamingTV',\n",
        "       'StreamingMovies', 'PaperlessBilling', 'PaymentMethod']\n",
        "X = pd.get_dummies(df, columns=cat_features, drop_first=True)"
      ],
      "execution_count": 18,
      "outputs": []
    },
    {
      "cell_type": "markdown",
      "metadata": {
        "id": "G02pQ85C0yVq",
        "colab_type": "text"
      },
      "source": [
        "## We also need to scale continuous variables. Otherwise, variables with higher values will be given more importance which effects the accuracy of the model:"
      ]
    },
    {
      "cell_type": "code",
      "metadata": {
        "id": "67uRvBWtrWel",
        "colab_type": "code",
        "colab": {}
      },
      "source": [
        "#scaling the continuos feautures using minmax scaler\n",
        "sc = MinMaxScaler()\n",
        "a = sc.fit_transform(df[['tenure']])\n",
        "b = sc.fit_transform(df[['MonthlyCharges']])"
      ],
      "execution_count": 19,
      "outputs": []
    },
    {
      "cell_type": "code",
      "metadata": {
        "id": "xu__Z921rYDY",
        "colab_type": "code",
        "colab": {}
      },
      "source": [
        "X['tenure'] = a\n",
        "X['MonthlyCharges'] = b"
      ],
      "execution_count": 20,
      "outputs": []
    },
    {
      "cell_type": "code",
      "metadata": {
        "id": "xlE2lyJOrCQ1",
        "colab_type": "code",
        "colab": {
          "base_uri": "https://localhost:8080/",
          "height": 253
        },
        "outputId": "d40d946e-df59-42a1-a40b-dd24015ed37b"
      },
      "source": [
        "X.head()"
      ],
      "execution_count": 21,
      "outputs": [
        {
          "output_type": "execute_result",
          "data": {
            "text/html": [
              "<div>\n",
              "<style scoped>\n",
              "    .dataframe tbody tr th:only-of-type {\n",
              "        vertical-align: middle;\n",
              "    }\n",
              "\n",
              "    .dataframe tbody tr th {\n",
              "        vertical-align: top;\n",
              "    }\n",
              "\n",
              "    .dataframe thead th {\n",
              "        text-align: right;\n",
              "    }\n",
              "</style>\n",
              "<table border=\"1\" class=\"dataframe\">\n",
              "  <thead>\n",
              "    <tr style=\"text-align: right;\">\n",
              "      <th></th>\n",
              "      <th>tenure</th>\n",
              "      <th>MonthlyCharges</th>\n",
              "      <th>Churn</th>\n",
              "      <th>SeniorCitizen_1</th>\n",
              "      <th>Partner_Yes</th>\n",
              "      <th>Dependents_Yes</th>\n",
              "      <th>MultipleLines_No phone service</th>\n",
              "      <th>MultipleLines_Yes</th>\n",
              "      <th>InternetService_Fiber optic</th>\n",
              "      <th>InternetService_No</th>\n",
              "      <th>OnlineSecurity_No internet service</th>\n",
              "      <th>OnlineSecurity_Yes</th>\n",
              "      <th>OnlineBackup_No internet service</th>\n",
              "      <th>OnlineBackup_Yes</th>\n",
              "      <th>DeviceProtection_No internet service</th>\n",
              "      <th>DeviceProtection_Yes</th>\n",
              "      <th>TechSupport_No internet service</th>\n",
              "      <th>TechSupport_Yes</th>\n",
              "      <th>StreamingTV_No internet service</th>\n",
              "      <th>StreamingTV_Yes</th>\n",
              "      <th>StreamingMovies_No internet service</th>\n",
              "      <th>StreamingMovies_Yes</th>\n",
              "      <th>PaperlessBilling_Yes</th>\n",
              "      <th>PaymentMethod_Credit card (automatic)</th>\n",
              "      <th>PaymentMethod_Electronic check</th>\n",
              "      <th>PaymentMethod_Mailed check</th>\n",
              "    </tr>\n",
              "  </thead>\n",
              "  <tbody>\n",
              "    <tr>\n",
              "      <th>0</th>\n",
              "      <td>0.013889</td>\n",
              "      <td>0.115423</td>\n",
              "      <td>0</td>\n",
              "      <td>0</td>\n",
              "      <td>1</td>\n",
              "      <td>0</td>\n",
              "      <td>1</td>\n",
              "      <td>0</td>\n",
              "      <td>0</td>\n",
              "      <td>0</td>\n",
              "      <td>0</td>\n",
              "      <td>0</td>\n",
              "      <td>0</td>\n",
              "      <td>1</td>\n",
              "      <td>0</td>\n",
              "      <td>0</td>\n",
              "      <td>0</td>\n",
              "      <td>0</td>\n",
              "      <td>0</td>\n",
              "      <td>0</td>\n",
              "      <td>0</td>\n",
              "      <td>0</td>\n",
              "      <td>1</td>\n",
              "      <td>0</td>\n",
              "      <td>1</td>\n",
              "      <td>0</td>\n",
              "    </tr>\n",
              "    <tr>\n",
              "      <th>1</th>\n",
              "      <td>0.472222</td>\n",
              "      <td>0.385075</td>\n",
              "      <td>0</td>\n",
              "      <td>0</td>\n",
              "      <td>0</td>\n",
              "      <td>0</td>\n",
              "      <td>0</td>\n",
              "      <td>0</td>\n",
              "      <td>0</td>\n",
              "      <td>0</td>\n",
              "      <td>0</td>\n",
              "      <td>1</td>\n",
              "      <td>0</td>\n",
              "      <td>0</td>\n",
              "      <td>0</td>\n",
              "      <td>1</td>\n",
              "      <td>0</td>\n",
              "      <td>0</td>\n",
              "      <td>0</td>\n",
              "      <td>0</td>\n",
              "      <td>0</td>\n",
              "      <td>0</td>\n",
              "      <td>0</td>\n",
              "      <td>0</td>\n",
              "      <td>0</td>\n",
              "      <td>1</td>\n",
              "    </tr>\n",
              "    <tr>\n",
              "      <th>2</th>\n",
              "      <td>0.027778</td>\n",
              "      <td>0.354229</td>\n",
              "      <td>1</td>\n",
              "      <td>0</td>\n",
              "      <td>0</td>\n",
              "      <td>0</td>\n",
              "      <td>0</td>\n",
              "      <td>0</td>\n",
              "      <td>0</td>\n",
              "      <td>0</td>\n",
              "      <td>0</td>\n",
              "      <td>1</td>\n",
              "      <td>0</td>\n",
              "      <td>1</td>\n",
              "      <td>0</td>\n",
              "      <td>0</td>\n",
              "      <td>0</td>\n",
              "      <td>0</td>\n",
              "      <td>0</td>\n",
              "      <td>0</td>\n",
              "      <td>0</td>\n",
              "      <td>0</td>\n",
              "      <td>1</td>\n",
              "      <td>0</td>\n",
              "      <td>0</td>\n",
              "      <td>1</td>\n",
              "    </tr>\n",
              "    <tr>\n",
              "      <th>3</th>\n",
              "      <td>0.625000</td>\n",
              "      <td>0.239303</td>\n",
              "      <td>0</td>\n",
              "      <td>0</td>\n",
              "      <td>0</td>\n",
              "      <td>0</td>\n",
              "      <td>1</td>\n",
              "      <td>0</td>\n",
              "      <td>0</td>\n",
              "      <td>0</td>\n",
              "      <td>0</td>\n",
              "      <td>1</td>\n",
              "      <td>0</td>\n",
              "      <td>0</td>\n",
              "      <td>0</td>\n",
              "      <td>1</td>\n",
              "      <td>0</td>\n",
              "      <td>1</td>\n",
              "      <td>0</td>\n",
              "      <td>0</td>\n",
              "      <td>0</td>\n",
              "      <td>0</td>\n",
              "      <td>0</td>\n",
              "      <td>0</td>\n",
              "      <td>0</td>\n",
              "      <td>0</td>\n",
              "    </tr>\n",
              "    <tr>\n",
              "      <th>4</th>\n",
              "      <td>0.027778</td>\n",
              "      <td>0.521891</td>\n",
              "      <td>1</td>\n",
              "      <td>0</td>\n",
              "      <td>0</td>\n",
              "      <td>0</td>\n",
              "      <td>0</td>\n",
              "      <td>0</td>\n",
              "      <td>1</td>\n",
              "      <td>0</td>\n",
              "      <td>0</td>\n",
              "      <td>0</td>\n",
              "      <td>0</td>\n",
              "      <td>0</td>\n",
              "      <td>0</td>\n",
              "      <td>0</td>\n",
              "      <td>0</td>\n",
              "      <td>0</td>\n",
              "      <td>0</td>\n",
              "      <td>0</td>\n",
              "      <td>0</td>\n",
              "      <td>0</td>\n",
              "      <td>1</td>\n",
              "      <td>0</td>\n",
              "      <td>1</td>\n",
              "      <td>0</td>\n",
              "    </tr>\n",
              "  </tbody>\n",
              "</table>\n",
              "</div>"
            ],
            "text/plain": [
              "     tenure  ...  PaymentMethod_Mailed check\n",
              "0  0.013889  ...                           0\n",
              "1  0.472222  ...                           1\n",
              "2  0.027778  ...                           1\n",
              "3  0.625000  ...                           0\n",
              "4  0.027778  ...                           0\n",
              "\n",
              "[5 rows x 26 columns]"
            ]
          },
          "metadata": {
            "tags": []
          },
          "execution_count": 21
        }
      ]
    },
    {
      "cell_type": "markdown",
      "metadata": {
        "id": "_nLbD1lAuhxe",
        "colab_type": "text"
      },
      "source": [
        "# **Upsampling should be done because the target variable has imbalanced distribution which affects the machine learning model**"
      ]
    },
    {
      "cell_type": "code",
      "metadata": {
        "id": "mEo2WnRHtm-r",
        "colab_type": "code",
        "colab": {
          "base_uri": "https://localhost:8080/",
          "height": 313
        },
        "outputId": "645b74d6-766d-42be-d58c-087214a78c97"
      },
      "source": [
        "#visualisation of target variable before resampling\n",
        "sns.countplot('Churn', data=df).set_title('Class Distribution Before Resampling')"
      ],
      "execution_count": 22,
      "outputs": [
        {
          "output_type": "execute_result",
          "data": {
            "text/plain": [
              "Text(0.5, 1.0, 'Class Distribution Before Resampling')"
            ]
          },
          "metadata": {
            "tags": []
          },
          "execution_count": 22
        },
        {
          "output_type": "display_data",
          "data": {
            "image/png": "[encoded data removed]",
            "text/plain": [
              "<Figure size 432x288 with 1 Axes>"
            ]
          },
          "metadata": {
            "tags": [],
            "needs_background": "light"
          }
        }
      ]
    },
    {
      "cell_type": "code",
      "metadata": {
        "id": "WK1tC5ZIwnwG",
        "colab_type": "code",
        "colab": {}
      },
      "source": [
        "from sklearn.utils import resample #importing the required package"
      ],
      "execution_count": 23,
      "outputs": []
    },
    {
      "cell_type": "code",
      "metadata": {
        "id": "QZKil7YWtqgx",
        "colab_type": "code",
        "colab": {}
      },
      "source": [
        "#seperating the distribution into x_no for churn=0 and x=yes for churn=1 \n",
        "X_no = X[X.Churn == 0]\n",
        "X_yes = X[X.Churn == 1]"
      ],
      "execution_count": 24,
      "outputs": []
    },
    {
      "cell_type": "code",
      "metadata": {
        "id": "_7lTpOQltsqi",
        "colab_type": "code",
        "colab": {
          "base_uri": "https://localhost:8080/",
          "height": 35
        },
        "outputId": "576e69aa-e26b-4530-b0ef-d923ebff6bae"
      },
      "source": [
        "#printing the count of class distribution\n",
        "print(len(X_no),len(X_yes))"
      ],
      "execution_count": 25,
      "outputs": [
        {
          "output_type": "stream",
          "text": [
            "5174 1869\n"
          ],
          "name": "stdout"
        }
      ]
    },
    {
      "cell_type": "code",
      "metadata": {
        "id": "cpck2skut2VZ",
        "colab_type": "code",
        "colab": {
          "base_uri": "https://localhost:8080/",
          "height": 35
        },
        "outputId": "a5fbd841-8a9d-4c85-c536-67d5fcfeed9d"
      },
      "source": [
        "X_yes_upsampled = resample(X_yes, replace=True,n_samples=5174, random_state=42)\n",
        "print(len(X_yes_upsampled))"
      ],
      "execution_count": 26,
      "outputs": [
        {
          "output_type": "stream",
          "text": [
            "5174\n"
          ],
          "name": "stdout"
        }
      ]
    },
    {
      "cell_type": "code",
      "metadata": {
        "id": "n7OEAqent5Gp",
        "colab_type": "code",
        "colab": {}
      },
      "source": [
        "#creating the varibale x_upsampled which has the same count as x_no\n",
        "X_upsampled = pd.concat([X_no,X_yes_upsampled])"
      ],
      "execution_count": 27,
      "outputs": []
    },
    {
      "cell_type": "code",
      "metadata": {
        "id": "MnWZ1N2Bw9Ce",
        "colab_type": "code",
        "colab": {
          "base_uri": "https://localhost:8080/",
          "height": 313
        },
        "outputId": "3e7ace73-aa9a-4613-f386-84332100a959"
      },
      "source": [
        "#visualizing the target variable after resampling\n",
        "sns.countplot('Churn', data=X_upsampled).set_title('Class Distribution After Resampling')"
      ],
      "execution_count": 28,
      "outputs": [
        {
          "output_type": "execute_result",
          "data": {
            "text/plain": [
              "Text(0.5, 1.0, 'Class Distribution After Resampling')"
            ]
          },
          "metadata": {
            "tags": []
          },
          "execution_count": 28
        },
        {
          "output_type": "display_data",
          "data": {
            "image/png": "[encoded data removed]",
            "text/plain": [
              "<Figure size 432x288 with 1 Axes>"
            ]
          },
          "metadata": {
            "tags": [],
            "needs_background": "light"
          }
        }
      ]
    },
    {
      "cell_type": "markdown",
      "metadata": {
        "id": "DxwliszG0Efo",
        "colab_type": "text"
      },
      "source": [
        "# **Train-Test-Split:**"
      ]
    },
    {
      "cell_type": "code",
      "metadata": {
        "id": "ZecPcn29zusP",
        "colab_type": "code",
        "colab": {}
      },
      "source": [
        "#splitting the data\n",
        "x = X_upsampled.drop(['Churn'], axis=1) #features\n",
        "y = X_upsampled['Churn'] #target"
      ],
      "execution_count": 29,
      "outputs": []
    },
    {
      "cell_type": "code",
      "metadata": {
        "id": "ySIgXs70ogwl",
        "colab_type": "code",
        "colab": {}
      },
      "source": [
        "#splitting the data into test and train\n",
        "x_train,x_test,y_train,y_test =train_test_split(x,y,test_size=0.2,random_state=42)"
      ],
      "execution_count": 30,
      "outputs": []
    },
    {
      "cell_type": "markdown",
      "metadata": {
        "id": "2w6thZiDzQJF",
        "colab_type": "text"
      },
      "source": [
        "## **Models Creation:**"
      ]
    },
    {
      "cell_type": "code",
      "metadata": {
        "id": "5gMF2igopAYU",
        "colab_type": "code",
        "colab": {}
      },
      "source": [
        "train_accu=np.zeros(3) #to store train accuracies\n",
        "test_accu=np.zeros(3) #to store test accuracies"
      ],
      "execution_count": 31,
      "outputs": []
    },
    {
      "cell_type": "markdown",
      "metadata": {
        "id": "Aeyq8SCYzIEF",
        "colab_type": "text"
      },
      "source": [
        "## **Logistic regression:**"
      ]
    },
    {
      "cell_type": "code",
      "metadata": {
        "id": "c2XM4tLwpD2U",
        "colab_type": "code",
        "colab": {
          "base_uri": "https://localhost:8080/",
          "height": 54
        },
        "outputId": "c045578f-ff8d-4747-c9af-def26c3ecc40"
      },
      "source": [
        "from sklearn.linear_model import LogisticRegression #importing the required package\n",
        "lr = LogisticRegression() #creating an object for the model\n",
        "lr.fit(x_train,y_train) #training the model\n",
        "lr_train_pred=lr.predict(x_train) #predicting on train data\n",
        "lr_test_pred=lr.predict(x_test) #predicting on test data\n",
        "#Checking the metrics\n",
        "train_accu[0]=accuracy_score(y_train,lr_train_pred)\n",
        "test_accu[0]=accuracy_score(y_test,lr_test_pred)\n",
        "print(\"LogisticRegression Train Accuracy: \",train_accu[0])\n",
        "print(\"LogisticRegression Test Accuracy: \",test_accu[0])"
      ],
      "execution_count": 32,
      "outputs": [
        {
          "output_type": "stream",
          "text": [
            "LogisticRegression Train Accuracy:  0.7553756946122252\n",
            "LogisticRegression Test Accuracy:  0.7603864734299517\n"
          ],
          "name": "stdout"
        }
      ]
    },
    {
      "cell_type": "code",
      "metadata": {
        "id": "jD2NQ8Y7pLnZ",
        "colab_type": "code",
        "colab": {
          "base_uri": "https://localhost:8080/",
          "height": 283
        },
        "outputId": "d3132ddd-af9b-4ab4-d3e8-e901dc71a32e"
      },
      "source": [
        "#visualization of the confusion matrix for train data\n",
        "sns.heatmap(confusion_matrix(y_train,lr_train_pred),annot=True,fmt='.2f')"
      ],
      "execution_count": 33,
      "outputs": [
        {
          "output_type": "execute_result",
          "data": {
            "text/plain": [
              "<matplotlib.axes._subplots.AxesSubplot at 0x7f7562faa390>"
            ]
          },
          "metadata": {
            "tags": []
          },
          "execution_count": 33
        },
        {
          "output_type": "display_data",
          "data": {
            "image/png": "[encoded data removed]",
            "text/plain": [
              "<Figure size 432x288 with 2 Axes>"
            ]
          },
          "metadata": {
            "tags": [],
            "needs_background": "light"
          }
        }
      ]
    },
    {
      "cell_type": "code",
      "metadata": {
        "id": "NQDn_UMrpXdo",
        "colab_type": "code",
        "colab": {
          "base_uri": "https://localhost:8080/",
          "height": 181
        },
        "outputId": "280a01e1-6934-4203-b4d5-aad9222977c5"
      },
      "source": [
        "#printing the classification report for train data\n",
        "print(classification_report(y_train,lr_train_pred))"
      ],
      "execution_count": 34,
      "outputs": [
        {
          "output_type": "stream",
          "text": [
            "              precision    recall  f1-score   support\n",
            "\n",
            "           0       0.76      0.75      0.75      4130\n",
            "           1       0.75      0.76      0.76      4148\n",
            "\n",
            "    accuracy                           0.76      8278\n",
            "   macro avg       0.76      0.76      0.76      8278\n",
            "weighted avg       0.76      0.76      0.76      8278\n",
            "\n"
          ],
          "name": "stdout"
        }
      ]
    },
    {
      "cell_type": "code",
      "metadata": {
        "id": "-ba5g3y5TH10",
        "colab_type": "code",
        "colab": {
          "base_uri": "https://localhost:8080/",
          "height": 283
        },
        "outputId": "cb7dbc31-9be9-4fd3-d994-85c44df5c5ea"
      },
      "source": [
        "#visualization of the confusion matrix for test data\n",
        "sns.heatmap(confusion_matrix(y_test,lr_test_pred),annot=True,fmt='.2f')"
      ],
      "execution_count": 35,
      "outputs": [
        {
          "output_type": "execute_result",
          "data": {
            "text/plain": [
              "<matplotlib.axes._subplots.AxesSubplot at 0x7f7561f59be0>"
            ]
          },
          "metadata": {
            "tags": []
          },
          "execution_count": 35
        },
        {
          "output_type": "display_data",
          "data": {
            "image/png": "[encoded data removed]",
            "text/plain": [
              "<Figure size 432x288 with 2 Axes>"
            ]
          },
          "metadata": {
            "tags": [],
            "needs_background": "light"
          }
        }
      ]
    },
    {
      "cell_type": "code",
      "metadata": {
        "id": "SlIO_RyfTlX0",
        "colab_type": "code",
        "colab": {
          "base_uri": "https://localhost:8080/",
          "height": 181
        },
        "outputId": "e5e8fec5-c99a-4b12-8371-03a62ccebbc7"
      },
      "source": [
        "#printing the classification report for test data\n",
        "print(classification_report(y_test,lr_test_pred))"
      ],
      "execution_count": 36,
      "outputs": [
        {
          "output_type": "stream",
          "text": [
            "              precision    recall  f1-score   support\n",
            "\n",
            "           0       0.77      0.75      0.76      1044\n",
            "           1       0.75      0.77      0.76      1026\n",
            "\n",
            "    accuracy                           0.76      2070\n",
            "   macro avg       0.76      0.76      0.76      2070\n",
            "weighted avg       0.76      0.76      0.76      2070\n",
            "\n"
          ],
          "name": "stdout"
        }
      ]
    },
    {
      "cell_type": "markdown",
      "metadata": {
        "id": "Brr_zmDDzCBJ",
        "colab_type": "text"
      },
      "source": [
        "## **K-Nearest Neighbors Classifier:**"
      ]
    },
    {
      "cell_type": "code",
      "metadata": {
        "id": "HmsRMXHhpanR",
        "colab_type": "code",
        "colab": {
          "base_uri": "https://localhost:8080/",
          "height": 54
        },
        "outputId": "613ba084-3477-4167-a354-9293d486017d"
      },
      "source": [
        "from sklearn.neighbors import KNeighborsClassifier#importing the required package\n",
        "knn = KNeighborsClassifier(n_neighbors=20, metric='euclidean')#creating an object for the model\n",
        "knn.fit(x_train,y_train) #training the model\n",
        "knn_train_pred=knn.predict(x_train) #predicting on train data\n",
        "knn_test_pred=knn.predict(x_test) #predicting on test data\n",
        "#Checking the metrics\n",
        "train_accu[1]=accuracy_score(y_train,knn_train_pred)\n",
        "test_accu[1]=accuracy_score(y_test,knn_test_pred)\n",
        "print(\"KNN Train Accuracy: \",train_accu[1])\n",
        "print(\"KNN Test Accuracy: \",test_accu[1])"
      ],
      "execution_count": 37,
      "outputs": [
        {
          "output_type": "stream",
          "text": [
            "KNN Train Accuracy:  0.7749456390432472\n",
            "KNN Test Accuracy:  0.7584541062801933\n"
          ],
          "name": "stdout"
        }
      ]
    },
    {
      "cell_type": "code",
      "metadata": {
        "id": "yKYLF-HvpkvD",
        "colab_type": "code",
        "colab": {
          "base_uri": "https://localhost:8080/",
          "height": 283
        },
        "outputId": "7a704d36-1636-4a9e-bcc8-d75325196bf8"
      },
      "source": [
        "#visualization of the confusion matrix for train data\n",
        "sns.heatmap(confusion_matrix(y_train,knn_train_pred),annot=True,fmt='.2f')"
      ],
      "execution_count": 38,
      "outputs": [
        {
          "output_type": "execute_result",
          "data": {
            "text/plain": [
              "<matplotlib.axes._subplots.AxesSubplot at 0x7f7561e5fb00>"
            ]
          },
          "metadata": {
            "tags": []
          },
          "execution_count": 38
        },
        {
          "output_type": "display_data",
          "data": {
            "image/png": "[encoded data removed]",
            "text/plain": [
              "<Figure size 432x288 with 2 Axes>"
            ]
          },
          "metadata": {
            "tags": [],
            "needs_background": "light"
          }
        }
      ]
    },
    {
      "cell_type": "code",
      "metadata": {
        "id": "brfPZGAMpxrC",
        "colab_type": "code",
        "colab": {
          "base_uri": "https://localhost:8080/",
          "height": 181
        },
        "outputId": "ee3f9603-d9fb-4d76-e502-9265b541cd13"
      },
      "source": [
        "#printing classification report for train data\n",
        "print(classification_report(y_train,knn_train_pred))"
      ],
      "execution_count": 39,
      "outputs": [
        {
          "output_type": "stream",
          "text": [
            "              precision    recall  f1-score   support\n",
            "\n",
            "           0       0.81      0.72      0.76      4130\n",
            "           1       0.75      0.83      0.79      4148\n",
            "\n",
            "    accuracy                           0.77      8278\n",
            "   macro avg       0.78      0.77      0.77      8278\n",
            "weighted avg       0.78      0.77      0.77      8278\n",
            "\n"
          ],
          "name": "stdout"
        }
      ]
    },
    {
      "cell_type": "code",
      "metadata": {
        "id": "iHm01hElT9-T",
        "colab_type": "code",
        "colab": {
          "base_uri": "https://localhost:8080/",
          "height": 283
        },
        "outputId": "6a53d5b4-04b8-4968-d3a0-8eebb6a89a46"
      },
      "source": [
        "#visualization of the confusion matrix for test data\n",
        "sns.heatmap(confusion_matrix(y_test,knn_test_pred),annot=True,fmt='.2f')"
      ],
      "execution_count": 40,
      "outputs": [
        {
          "output_type": "execute_result",
          "data": {
            "text/plain": [
              "<matplotlib.axes._subplots.AxesSubplot at 0x7f7560ffd940>"
            ]
          },
          "metadata": {
            "tags": []
          },
          "execution_count": 40
        },
        {
          "output_type": "display_data",
          "data": {
            "image/png": "[encoded data removed]",
            "text/plain": [
              "<Figure size 432x288 with 2 Axes>"
            ]
          },
          "metadata": {
            "tags": [],
            "needs_background": "light"
          }
        }
      ]
    },
    {
      "cell_type": "code",
      "metadata": {
        "id": "G7qzAIAVUOWz",
        "colab_type": "code",
        "colab": {
          "base_uri": "https://localhost:8080/",
          "height": 181
        },
        "outputId": "0af13773-e5f8-4b63-950e-7f029f1207c4"
      },
      "source": [
        "#printing classification report for test data\n",
        "print(classification_report(y_test,knn_test_pred))"
      ],
      "execution_count": 41,
      "outputs": [
        {
          "output_type": "stream",
          "text": [
            "              precision    recall  f1-score   support\n",
            "\n",
            "           0       0.79      0.72      0.75      1044\n",
            "           1       0.73      0.80      0.77      1026\n",
            "\n",
            "    accuracy                           0.76      2070\n",
            "   macro avg       0.76      0.76      0.76      2070\n",
            "weighted avg       0.76      0.76      0.76      2070\n",
            "\n"
          ],
          "name": "stdout"
        }
      ]
    },
    {
      "cell_type": "markdown",
      "metadata": {
        "id": "Klkw_ayLy-l4",
        "colab_type": "text"
      },
      "source": [
        "## **Random Forest Classifier:**"
      ]
    },
    {
      "cell_type": "code",
      "metadata": {
        "id": "MDd4VmSYp1AH",
        "colab_type": "code",
        "colab": {
          "base_uri": "https://localhost:8080/",
          "height": 54
        },
        "outputId": "c56adc9e-bf49-4fe7-8e5c-86090f442544"
      },
      "source": [
        "from sklearn.ensemble import RandomForestClassifier#importing the required package\n",
        "clf = RandomForestClassifier()#creating an object for the model\n",
        "clf.fit(x_train, y_train) #training the model\n",
        "clf_train_pred=clf.predict(x_train)#predicting on train data\n",
        "clf_test_pred=clf.predict(x_test)#predicitng on test data\n",
        "#Checking the metrics\n",
        "train_accu[2]=accuracy_score(y_train,clf_train_pred)\n",
        "test_accu[2]=accuracy_score(y_test,clf_test_pred)\n",
        "print(\"RandomForestClassifier Train Accuracy: \",train_accu[2])\n",
        "print(\"RandomForestClassifier Test Accuracy: \",test_accu[2])"
      ],
      "execution_count": 42,
      "outputs": [
        {
          "output_type": "stream",
          "text": [
            "RandomForestClassifier Train Accuracy:  0.996859144720947\n",
            "RandomForestClassifier Test Accuracy:  0.9082125603864735\n"
          ],
          "name": "stdout"
        }
      ]
    },
    {
      "cell_type": "code",
      "metadata": {
        "id": "VouBm0S7qABS",
        "colab_type": "code",
        "colab": {
          "base_uri": "https://localhost:8080/",
          "height": 283
        },
        "outputId": "06771bfe-72d3-43bc-e3b7-5fbf1caf6d52"
      },
      "source": [
        "#visualization of the confusion matrix for train data\n",
        "sns.heatmap(confusion_matrix(y_train,clf_train_pred),annot=True,fmt='.2f')"
      ],
      "execution_count": 43,
      "outputs": [
        {
          "output_type": "execute_result",
          "data": {
            "text/plain": [
              "<matplotlib.axes._subplots.AxesSubplot at 0x7f7560f69f98>"
            ]
          },
          "metadata": {
            "tags": []
          },
          "execution_count": 43
        },
        {
          "output_type": "display_data",
          "data": {
            "image/png": "[encoded data removed]",
            "text/plain": [
              "<Figure size 432x288 with 2 Axes>"
            ]
          },
          "metadata": {
            "tags": [],
            "needs_background": "light"
          }
        }
      ]
    },
    {
      "cell_type": "code",
      "metadata": {
        "id": "K1mfES6Gs_0H",
        "colab_type": "code",
        "colab": {
          "base_uri": "https://localhost:8080/",
          "height": 181
        },
        "outputId": "4a297818-a309-4de4-84c4-95ff84969320"
      },
      "source": [
        "#printing classification report for train data\n",
        "print(classification_report(y_train,clf_train_pred))"
      ],
      "execution_count": 44,
      "outputs": [
        {
          "output_type": "stream",
          "text": [
            "              precision    recall  f1-score   support\n",
            "\n",
            "           0       1.00      0.99      1.00      4130\n",
            "           1       0.99      1.00      1.00      4148\n",
            "\n",
            "    accuracy                           1.00      8278\n",
            "   macro avg       1.00      1.00      1.00      8278\n",
            "weighted avg       1.00      1.00      1.00      8278\n",
            "\n"
          ],
          "name": "stdout"
        }
      ]
    },
    {
      "cell_type": "code",
      "metadata": {
        "id": "zDS4afUJVDvL",
        "colab_type": "code",
        "colab": {
          "base_uri": "https://localhost:8080/",
          "height": 283
        },
        "outputId": "fd5eda3d-b3d3-4809-b3ef-5ff2fc9cb5ca"
      },
      "source": [
        "#visualization of the confusion matrix for test data\n",
        "sns.heatmap(confusion_matrix(y_test,clf_test_pred),annot=True,fmt='.2f')"
      ],
      "execution_count": 45,
      "outputs": [
        {
          "output_type": "execute_result",
          "data": {
            "text/plain": [
              "<matplotlib.axes._subplots.AxesSubplot at 0x7f7560080940>"
            ]
          },
          "metadata": {
            "tags": []
          },
          "execution_count": 45
        },
        {
          "output_type": "display_data",
          "data": {
            "image/png": "[encoded data removed]",
            "text/plain": [
              "<Figure size 432x288 with 2 Axes>"
            ]
          },
          "metadata": {
            "tags": [],
            "needs_background": "light"
          }
        }
      ]
    },
    {
      "cell_type": "code",
      "metadata": {
        "id": "VIr1E82kVLDx",
        "colab_type": "code",
        "colab": {
          "base_uri": "https://localhost:8080/",
          "height": 181
        },
        "outputId": "3f52012a-d4a2-49b9-9d48-9edb4b34fb15"
      },
      "source": [
        "#printing classification report for test data\n",
        "print(classification_report(y_test,clf_test_pred))"
      ],
      "execution_count": 46,
      "outputs": [
        {
          "output_type": "stream",
          "text": [
            "              precision    recall  f1-score   support\n",
            "\n",
            "           0       0.96      0.85      0.90      1044\n",
            "           1       0.86      0.97      0.91      1026\n",
            "\n",
            "    accuracy                           0.91      2070\n",
            "   macro avg       0.91      0.91      0.91      2070\n",
            "weighted avg       0.91      0.91      0.91      2070\n",
            "\n"
          ],
          "name": "stdout"
        }
      ]
    },
    {
      "cell_type": "markdown",
      "metadata": {
        "id": "g_PYh_FAy23a",
        "colab_type": "text"
      },
      "source": [
        "# **Comparing the Accuracies of all the three models:**"
      ]
    },
    {
      "cell_type": "code",
      "metadata": {
        "id": "OtuLBh0EtCRY",
        "colab_type": "code",
        "colab": {
          "base_uri": "https://localhost:8080/",
          "height": 54
        },
        "outputId": "f8ba25dd-c97d-4ce5-919c-6e42a29d42fc"
      },
      "source": [
        "#defining labels and printing accuracies\n",
        "labels=['Logistic Regression','KNN','Random Forest']\n",
        "print(\"Train accuracies: \",train_accu)\n",
        "print(\"Test Accuracies: \",test_accu)"
      ],
      "execution_count": 47,
      "outputs": [
        {
          "output_type": "stream",
          "text": [
            "Train accuracies:  [0.75537569 0.77494564 0.99685914]\n",
            "Test Accuracies:  [0.76038647 0.75845411 0.90821256]\n"
          ],
          "name": "stdout"
        }
      ]
    },
    {
      "cell_type": "code",
      "metadata": {
        "id": "XeP3RjCrtFkk",
        "colab_type": "code",
        "colab": {
          "base_uri": "https://localhost:8080/",
          "height": 423
        },
        "outputId": "81578abf-4884-4b39-886e-0e498d3cd770"
      },
      "source": [
        "#visualizing the train accuracies of all the models\n",
        "print(\"Accuracy Comparision for TRAIN data for all the models:\\n\\n\")\n",
        "plt.subplots(figsize=(5,5))\n",
        "plt.bar(labels,train_accu,color=['green','red','black'])\n",
        "plt.xlabel('Classifiers')\n",
        "plt.ylabel('Accuracy')\n",
        "plt.title('Train Accuracy of various algorithms')"
      ],
      "execution_count": 48,
      "outputs": [
        {
          "output_type": "stream",
          "text": [
            "Accuracy Comparision for TRAIN data for all the models:\n",
            "\n",
            "\n"
          ],
          "name": "stdout"
        },
        {
          "output_type": "execute_result",
          "data": {
            "text/plain": [
              "Text(0.5, 1.0, 'Train Accuracy of various algorithms')"
            ]
          },
          "metadata": {
            "tags": []
          },
          "execution_count": 48
        },
        {
          "output_type": "display_data",
          "data": {
            "image/png": "[encoded data removed]",
            "text/plain": [
              "<Figure size 360x360 with 1 Axes>"
            ]
          },
          "metadata": {
            "tags": [],
            "needs_background": "light"
          }
        }
      ]
    },
    {
      "cell_type": "code",
      "metadata": {
        "id": "S0_9n5QyxZj7",
        "colab_type": "code",
        "colab": {
          "base_uri": "https://localhost:8080/",
          "height": 423
        },
        "outputId": "6d140389-4c52-4302-9f3b-0543d0eedd11"
      },
      "source": [
        "#visualizing the test accuracies of all the models\n",
        "print(\"Accuracy Comparision for TEST data for all the models:\\n\\n\")\n",
        "plt.subplots(figsize=(5,5))\n",
        "plt.bar(labels,test_accu,color=['green','red','black'])\n",
        "plt.xlabel('Classifiers')\n",
        "plt.ylabel('Accuracy')\n",
        "plt.title('Test Accuracy of various algorithms')"
      ],
      "execution_count": 49,
      "outputs": [
        {
          "output_type": "stream",
          "text": [
            "Accuracy Comparision for TEST data for all the models:\n",
            "\n",
            "\n"
          ],
          "name": "stdout"
        },
        {
          "output_type": "execute_result",
          "data": {
            "text/plain": [
              "Text(0.5, 1.0, 'Test Accuracy of various algorithms')"
            ]
          },
          "metadata": {
            "tags": []
          },
          "execution_count": 49
        },
        {
          "output_type": "display_data",
          "data": {
            "image/png": "[encoded data removed]",
            "text/plain": [
              "<Figure size 360x360 with 1 Axes>"
            ]
          },
          "metadata": {
            "tags": [],
            "needs_background": "light"
          }
        }
      ]
    },
    {
      "cell_type": "markdown",
      "metadata": {
        "id": "CKpOL6zix-XF",
        "colab_type": "text"
      },
      "source": [
        "# **As we can see out of all the three algorithms the maximum accuracy is obtained by using RandomForest classifier.Hence by this project we can conclude that RandomForest algorithm works best in predicting Customer Churn**"
      ]
    }
  ]
}